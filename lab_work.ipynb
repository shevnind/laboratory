{
  "nbformat": 4,
  "nbformat_minor": 0,
  "metadata": {
    "colab": {
      "provenance": []
    },
    "kernelspec": {
      "name": "python3",
      "display_name": "Python 3"
    },
    "language_info": {
      "name": "python"
    }
  },
  "cells": [
    {
      "cell_type": "markdown",
      "source": [
        "# Лабораторная работа"
      ],
      "metadata": {
        "id": "rloJD2luQnuQ"
      }
    },
    {
      "cell_type": "markdown",
      "source": [
        "Баллы за секции:\n",
        "- *Задание 1* - 10 баллов\n",
        "- *Задание 2* - 20 баллов\n",
        "- *Задание 3* - 30 баллов\n",
        "- **Итого** - 60 баллов\n",
        "\n",
        "Оценка за лабу $ = \\frac{score}{6}$"
      ],
      "metadata": {
        "id": "xIZ02xiML9p_"
      }
    },
    {
      "cell_type": "markdown",
      "source": [
        "## Внимание! Attention! Achtung!"
      ],
      "metadata": {
        "id": "OEDe7x8YRID0"
      }
    },
    {
      "cell_type": "markdown",
      "source": [
        "**Данная лабораторная работа является блокирующей**, т.е. если лабораторная работа не выполнена, то оценка за курс - неуд.\n",
        "\n",
        "Лабораторная работа считается выполненной, если **за каждое из заданий получено не менее 2 баллов**."
      ],
      "metadata": {
        "id": "ZEmKA-7NR1Y9"
      }
    },
    {
      "cell_type": "markdown",
      "source": [
        "## Формат сдачи лабораторной работы"
      ],
      "metadata": {
        "id": "N1ZbZ8dkR5q_"
      }
    },
    {
      "cell_type": "markdown",
      "source": [
        "Данная лабораторная работа сдается так же, как и проект - заполняете данный ноутбук, отправляете его через GitHub с указанием проверяющего."
      ],
      "metadata": {
        "id": "tEwx7LLQR-h8"
      }
    },
    {
      "cell_type": "markdown",
      "source": [
        "**Ассистенты не будут запускать ячейки кода, а смотреть на выведенный результат и код. Если ячейка кода не запущена - балл не ставится, даже при правильно написанном коде.**\n",
        "\n",
        "***(Комментарии что курс по Python легче чем по C++ учтены)***"
      ],
      "metadata": {
        "id": "qKwaNCJKj7b8"
      }
    },
    {
      "cell_type": "markdown",
      "source": [
        ">**Примечание**\n",
        ">\n",
        ">Данные задания вдохновлены предметом \"Введение в анализ данных\" 2 курса, по итогу которого идёт отбор на DS-поток. Если вы видите себя в смежных областях, советуем выполнить данную лабораторку по максимуму."
      ],
      "metadata": {
        "id": "hlUYK7MDRGye"
      }
    },
    {
      "cell_type": "code",
      "source": [
        "# Всё необходимое для выполнения данной лабораторной работы!\n",
        "import requests\n",
        "from time import sleep\n",
        "\n",
        "import numpy as np\n",
        "import pandas as pd\n",
        "import matplotlib.pyplot as plt\n",
        "import seaborn as sns"
      ],
      "metadata": {
        "id": "1qzEqvohoZfB"
      },
      "execution_count": 145,
      "outputs": []
    },
    {
      "cell_type": "markdown",
      "source": [
        "## Задание 1. Парсинг - 10 баллов"
      ],
      "metadata": {
        "id": "rB_FYHU2k8w-"
      }
    },
    {
      "cell_type": "markdown",
      "source": [
        "В этом задании Вам предстоит работать с API сайта <a target=\"_blank\" href=\"hh.ru\">hh.ru</a>. Документация доступна по <a target=\"_blank\" href=\"https://github.com/hhru/api/blob/master/docs/vacancies.md#search\">ссылке</a>."
      ],
      "metadata": {
        "id": "F0gr5cjaoQJy"
      }
    },
    {
      "cell_type": "markdown",
      "source": [
        "<b><font color=\"red\">Внимание!</font> При работе с API не забывайте делать паузы между запросами, иначе вас забанят. Просрочка дедлайна по этой причине не принимается!</b>"
      ],
      "metadata": {
        "id": "v8iCQYk7TNvK"
      }
    },
    {
      "cell_type": "markdown",
      "source": [
        "**Задача:**\n",
        "1. выбрать 5 интересующих вас профессий (не смежных, т.е. Аналатик и Data Engineer не считается корректным)\n",
        "2. затем получить доступные по данным профессиям вакансии в Москве и выделить их физические координаты\n",
        "3. нанести полученные координаты на карту местоположения компаний"
      ],
      "metadata": {
        "id": "-HAm80rqRqAZ"
      }
    },
    {
      "cell_type": "markdown",
      "source": [
        "*Пример запроса для профессии:*"
      ],
      "metadata": {
        "id": "H0GhQJvipXYj"
      }
    },
    {
      "cell_type": "code",
      "source": [
        "URL = 'https://api.hh.ru/vacancies'\n",
        "\n",
        "params = {\n",
        "    'text': \"Физик-ядерщик\",\n",
        "    'area': 1,\n",
        "    'page': 0,\n",
        "    'per_page': 10\n",
        "}\n",
        "\n",
        "data = requests.get(URL, params).json()"
      ],
      "metadata": {
        "id": "aZLGoS_DpsXI"
      },
      "execution_count": 146,
      "outputs": []
    },
    {
      "cell_type": "markdown",
      "source": [
        "Если Ваш запрос прошел успешно, то вы получите следующие ключи (значения данных ключей вы найдете по ссылке на документацию):"
      ],
      "metadata": {
        "id": "yHQtIBRQp91_"
      }
    },
    {
      "cell_type": "code",
      "source": [
        "data.keys()"
      ],
      "metadata": {
        "colab": {
          "base_uri": "https://localhost:8080/"
        },
        "id": "DW6mxzggpvKw",
        "outputId": "083e5ce2-9948-4756-ca09-bfcf13b68880"
      },
      "execution_count": 147,
      "outputs": [
        {
          "output_type": "execute_result",
          "data": {
            "text/plain": [
              "dict_keys(['items', 'found', 'pages', 'page', 'per_page', 'clusters', 'arguments', 'fixes', 'suggests', 'alternate_url'])"
            ]
          },
          "metadata": {},
          "execution_count": 147
        }
      ]
    },
    {
      "cell_type": "markdown",
      "source": [
        ">**Примечание**\n",
        ">\n",
        ">В `data['pages']` будет хранится количество найденных страниц вакансий - для корректного сбора данных Вам нужно пробежать по **КАЖДОЙ** странице и сделать соотвествующие запросы."
      ],
      "metadata": {
        "id": "O-qAwsmrTAvQ"
      }
    },
    {
      "cell_type": "markdown",
      "source": [
        ">**Совет**\n",
        ">\n",
        ">Посмотрите что хранится в `items`!"
      ],
      "metadata": {
        "id": "OEPOQVYxsMyN"
      }
    },
    {
      "cell_type": "markdown",
      "source": [
        "(1 балл) Выберете для нас 5 наиболее интересных специальностей и получите по ним имеющиеся вакансии:"
      ],
      "metadata": {
        "id": "JWvkFrh9qhkj"
      }
    },
    {
      "cell_type": "code",
      "source": [
        "# your code here"
      ],
      "metadata": {
        "id": "_Nm-vyiBqugq"
      },
      "execution_count": 148,
      "outputs": []
    },
    {
      "cell_type": "markdown",
      "source": [
        "(1 балл) Посчитайте сколько всего найдено вакансий:"
      ],
      "metadata": {
        "id": "g0bdgyNWquuY"
      }
    },
    {
      "cell_type": "code",
      "source": [
        "# your code here"
      ],
      "metadata": {
        "id": "lxyXtIs6q5cc"
      },
      "execution_count": 149,
      "outputs": []
    },
    {
      "cell_type": "markdown",
      "source": [
        "(1 балл) Создайте структуру данных, которая будет хранить в себе имя компании и ее координаты (широта и долгота):"
      ],
      "metadata": {
        "id": "wQeULnNyq5wk"
      }
    },
    {
      "cell_type": "code",
      "source": [
        "class Company:\n",
        "  pass\n",
        "    # your code here"
      ],
      "metadata": {
        "id": "aR501yltVdLm"
      },
      "execution_count": 150,
      "outputs": []
    },
    {
      "cell_type": "markdown",
      "source": [
        "(1 балл) Создайте экземпляр этой структуры данных для каждой компании, которая выставила вакансию:"
      ],
      "metadata": {
        "id": "ccIi3wIvVkG0"
      }
    },
    {
      "cell_type": "code",
      "source": [
        "# your code here"
      ],
      "metadata": {
        "id": "tR6mYW7jtcCQ"
      },
      "execution_count": 151,
      "outputs": []
    },
    {
      "cell_type": "markdown",
      "source": [
        "(1 балл) Найдите количество вакансий, у которых заданы координаты (значения данных может быть пустым):"
      ],
      "metadata": {
        "id": "SyBpNd0vtcNu"
      }
    },
    {
      "cell_type": "code",
      "source": [
        "# your code here"
      ],
      "metadata": {
        "id": "lVgNCVALt2qJ"
      },
      "execution_count": 152,
      "outputs": []
    },
    {
      "cell_type": "markdown",
      "source": [
        "(1 балл) Отберите вакансии, которые расположены в пределах МКАД (можно грубо):"
      ],
      "metadata": {
        "id": "aWNXrM-cu5Vi"
      }
    },
    {
      "cell_type": "code",
      "source": [
        "# your code here"
      ],
      "metadata": {
        "id": "01g9wVEyyn-J"
      },
      "execution_count": 153,
      "outputs": []
    },
    {
      "cell_type": "markdown",
      "source": [
        "(1 балл) Постройте график в координатах \"широта-долгота\" для отображения вакансий внутри МКАД (не забывайте прописать прозрачность, чтобы увидеть скопления):"
      ],
      "metadata": {
        "id": "4LCb9IL_bgB_"
      }
    },
    {
      "cell_type": "code",
      "source": [
        "# your code here"
      ],
      "metadata": {
        "id": "6ogiXDvKcDV8"
      },
      "execution_count": 154,
      "outputs": []
    },
    {
      "cell_type": "markdown",
      "source": [
        "(1 балл) Нанесите все точки вакансий на карту (для этого вам поможет данная <a target=\"_blank\" href=\"https://plotly.com/python/mapbox-layers/\">документации</a>, не забудьте про прозрачность и центрирование по Москве):"
      ],
      "metadata": {
        "id": "YvS8b7eqt214"
      }
    },
    {
      "cell_type": "code",
      "source": [
        "# your code here"
      ],
      "metadata": {
        "id": "1ceHEBdAys8o"
      },
      "execution_count": 155,
      "outputs": []
    },
    {
      "cell_type": "markdown",
      "source": [
        "(2 балла) **Сделайте выводы о проделанной работе:**"
      ],
      "metadata": {
        "id": "u-p3Llc361PN"
      }
    },
    {
      "cell_type": "markdown",
      "source": [
        ">*Подсказки для маленьких: Что вы можете сказать про районы Москвы? Что вы можете сказать про зарплаты? Что вы можете сказать про спрос?*"
      ],
      "metadata": {
        "id": "G1c3d-qALobz"
      }
    },
    {
      "cell_type": "markdown",
      "source": [
        "Ваши выводы здесь :)"
      ],
      "metadata": {
        "id": "gkPpbtBuVqwc"
      }
    },
    {
      "cell_type": "markdown",
      "source": [
        "## Задание 2. Анализ данных - 20 баллов"
      ],
      "metadata": {
        "id": "wVcCTF_Zz58q"
      }
    },
    {
      "cell_type": "markdown",
      "source": [
        "Вам предстоит проанализировать датасет, содержащий информацию об бриллианта, их стоимости и остальных характеристиках."
      ],
      "metadata": {
        "id": "lii5YFuucxR2"
      }
    },
    {
      "cell_type": "markdown",
      "source": [
        "\n",
        "\n",
        "Поясним значения хранящиеся в колонках:\n",
        "*   `cut` - огранка бриллианта (относится к одной из примерно 10 наиболее распространенных)\n",
        "*   `color` - цвет бриллианта, прозрачные бриллианты имеют градацию `D-Z`, \"более высокие\" буквы - более желтоватые, но часто имеют лучшие значения, поскольку цвет трудно определить один раз в кольце\n",
        "*   `clarity` - чистота бриллианта, наличие включений (внутренних дефектов), чем меньше и мельче, тем лучше\n",
        "*   `carat_weight` - масса бриллианта (слабо связана с размером бриллианта, т.к. огранка и качество огранки, как правило, играют большую роль)\n",
        "*   `cut_quality` - качество ограники по системе оценки GIA Cut\n",
        "*   `lab` - лаборатория оценивания\n",
        "*   `meas_length` - длина бриллианта\n",
        "*   `meas_width` - ширина бриллианта\n",
        "*   `meas_depth` - глубина бриллианта\n",
        "*   `total_sales_price` - цена бриллианта в долларах.\n",
        "*    **и прочие колонки**"
      ],
      "metadata": {
        "id": "CvEO3-NI0Gez"
      }
    },
    {
      "cell_type": "markdown",
      "source": [
        "Скачаем данные:"
      ],
      "metadata": {
        "id": "7mK1QntN6ZXh"
      }
    },
    {
      "cell_type": "code",
      "source": [
        "!gdown 10OJ30qlkE-7zK4JuVTDMY3U4nRB4tu_8"
      ],
      "metadata": {
        "id": "LnCK3gCoebjw",
        "colab": {
          "base_uri": "https://localhost:8080/"
        },
        "outputId": "d3f2e67b-e140-40ae-fb79-32c714d9d355"
      },
      "execution_count": 156,
      "outputs": [
        {
          "output_type": "stream",
          "name": "stdout",
          "text": [
            "Downloading...\n",
            "From: https://drive.google.com/uc?id=10OJ30qlkE-7zK4JuVTDMY3U4nRB4tu_8\n",
            "To: /content/diamonds.csv\n",
            "100% 35.4M/35.4M [00:00<00:00, 186MB/s]\n"
          ]
        }
      ]
    },
    {
      "cell_type": "markdown",
      "source": [
        "Создадим DataFrame:"
      ],
      "metadata": {
        "id": "wfSqVYoIfi3-"
      }
    },
    {
      "cell_type": "code",
      "source": [
        "import pandas as pd\n",
        "\n",
        "diamonds = pd.read_csv(\"diamonds.csv\")\n",
        "diamonds"
      ],
      "metadata": {
        "id": "cDgRJzRp6Ow4",
        "colab": {
          "base_uri": "https://localhost:8080/",
          "height": 582
        },
        "outputId": "57422bb6-4cf9-4d82-ce9c-5f773221cd5e"
      },
      "execution_count": 157,
      "outputs": [
        {
          "output_type": "execute_result",
          "data": {
            "text/plain": [
              "        Unnamed: 0       cut    color clarity  carat_weight cut_quality  lab  \\\n",
              "0                0     Round        E    VVS2          0.09   Excellent  IGI   \n",
              "1                1     Round        E    VVS2          0.09   Very Good  IGI   \n",
              "2                2     Round        E    VVS2          0.09   Excellent  IGI   \n",
              "3                3     Round        E    VVS2          0.09   Excellent  IGI   \n",
              "4                4     Round        E    VVS2          0.09   Very Good  IGI   \n",
              "...            ...       ...      ...     ...           ...         ...  ...   \n",
              "219698      219699     Round        E     VS1         10.65   Excellent  GIA   \n",
              "219699      219700   Radiant  unknown     VS2          5.17     unknown  GIA   \n",
              "219700      219701     Round        E     VS1         18.07   Excellent  GIA   \n",
              "219701      219702  Princess  unknown     SI2          0.90     unknown  GIA   \n",
              "219702      219703      Pear  unknown    VVS2         10.03     unknown  GIA   \n",
              "\n",
              "         symmetry     polish eye_clean  ... meas_depth girdle_min  girdle_max  \\\n",
              "0       Very Good  Very Good   unknown  ...       1.79          M           M   \n",
              "1       Very Good  Very Good   unknown  ...       1.78        STK         STK   \n",
              "2       Very Good  Very Good   unknown  ...       1.77         TN           M   \n",
              "3       Very Good  Very Good   unknown  ...       1.78          M         STK   \n",
              "4       Very Good  Excellent   unknown  ...       1.82        STK         STK   \n",
              "...           ...        ...       ...  ...        ...        ...         ...   \n",
              "219698  Excellent  Excellent   unknown  ...       8.66          M         STK   \n",
              "219699  Very Good  Very Good   unknown  ...       5.71         TK         XTK   \n",
              "219700  Excellent  Excellent   unknown  ...      10.20         TN           M   \n",
              "219701       Good       Good   unknown  ...       3.47        XTN         VTK   \n",
              "219702  Very Good  Excellent   unknown  ...       7.39    unknown     unknown   \n",
              "\n",
              "        fluor_color  fluor_intensity  fancy_color_dominant_color  \\\n",
              "0           unknown              NaN                     unknown   \n",
              "1           unknown              NaN                     unknown   \n",
              "2           unknown              NaN                     unknown   \n",
              "3           unknown              NaN                     unknown   \n",
              "4           unknown              NaN                     unknown   \n",
              "...             ...              ...                         ...   \n",
              "219698      unknown              NaN                     unknown   \n",
              "219699      unknown              NaN                       Green   \n",
              "219700      unknown              NaN                     unknown   \n",
              "219701      unknown            Faint                         Red   \n",
              "219702      unknown              NaN                      Yellow   \n",
              "\n",
              "        fancy_color_secondary_color fancy_color_overtone  \\\n",
              "0                           unknown              unknown   \n",
              "1                           unknown              unknown   \n",
              "2                           unknown              unknown   \n",
              "3                           unknown              unknown   \n",
              "4                           unknown              unknown   \n",
              "...                             ...                  ...   \n",
              "219698                      unknown              unknown   \n",
              "219699                      unknown                  NaN   \n",
              "219700                      unknown              unknown   \n",
              "219701                      unknown              unknown   \n",
              "219702                      unknown              unknown   \n",
              "\n",
              "       fancy_color_intensity total_sales_price  \n",
              "0                    unknown               200  \n",
              "1                    unknown               200  \n",
              "2                    unknown               200  \n",
              "3                    unknown               200  \n",
              "4                    unknown               200  \n",
              "...                      ...               ...  \n",
              "219698               unknown           1210692  \n",
              "219699           Fancy Light           1292500  \n",
              "219700               unknown           1315496  \n",
              "219701                 Fancy           1350000  \n",
              "219702           Fancy Vivid           1449881  \n",
              "\n",
              "[219703 rows x 26 columns]"
            ],
            "text/html": [
              "\n",
              "  <div id=\"df-18560507-fc46-4bc2-9345-f2cb31e61fb4\" class=\"colab-df-container\">\n",
              "    <div>\n",
              "<style scoped>\n",
              "    .dataframe tbody tr th:only-of-type {\n",
              "        vertical-align: middle;\n",
              "    }\n",
              "\n",
              "    .dataframe tbody tr th {\n",
              "        vertical-align: top;\n",
              "    }\n",
              "\n",
              "    .dataframe thead th {\n",
              "        text-align: right;\n",
              "    }\n",
              "</style>\n",
              "<table border=\"1\" class=\"dataframe\">\n",
              "  <thead>\n",
              "    <tr style=\"text-align: right;\">\n",
              "      <th></th>\n",
              "      <th>Unnamed: 0</th>\n",
              "      <th>cut</th>\n",
              "      <th>color</th>\n",
              "      <th>clarity</th>\n",
              "      <th>carat_weight</th>\n",
              "      <th>cut_quality</th>\n",
              "      <th>lab</th>\n",
              "      <th>symmetry</th>\n",
              "      <th>polish</th>\n",
              "      <th>eye_clean</th>\n",
              "      <th>...</th>\n",
              "      <th>meas_depth</th>\n",
              "      <th>girdle_min</th>\n",
              "      <th>girdle_max</th>\n",
              "      <th>fluor_color</th>\n",
              "      <th>fluor_intensity</th>\n",
              "      <th>fancy_color_dominant_color</th>\n",
              "      <th>fancy_color_secondary_color</th>\n",
              "      <th>fancy_color_overtone</th>\n",
              "      <th>fancy_color_intensity</th>\n",
              "      <th>total_sales_price</th>\n",
              "    </tr>\n",
              "  </thead>\n",
              "  <tbody>\n",
              "    <tr>\n",
              "      <th>0</th>\n",
              "      <td>0</td>\n",
              "      <td>Round</td>\n",
              "      <td>E</td>\n",
              "      <td>VVS2</td>\n",
              "      <td>0.09</td>\n",
              "      <td>Excellent</td>\n",
              "      <td>IGI</td>\n",
              "      <td>Very Good</td>\n",
              "      <td>Very Good</td>\n",
              "      <td>unknown</td>\n",
              "      <td>...</td>\n",
              "      <td>1.79</td>\n",
              "      <td>M</td>\n",
              "      <td>M</td>\n",
              "      <td>unknown</td>\n",
              "      <td>NaN</td>\n",
              "      <td>unknown</td>\n",
              "      <td>unknown</td>\n",
              "      <td>unknown</td>\n",
              "      <td>unknown</td>\n",
              "      <td>200</td>\n",
              "    </tr>\n",
              "    <tr>\n",
              "      <th>1</th>\n",
              "      <td>1</td>\n",
              "      <td>Round</td>\n",
              "      <td>E</td>\n",
              "      <td>VVS2</td>\n",
              "      <td>0.09</td>\n",
              "      <td>Very Good</td>\n",
              "      <td>IGI</td>\n",
              "      <td>Very Good</td>\n",
              "      <td>Very Good</td>\n",
              "      <td>unknown</td>\n",
              "      <td>...</td>\n",
              "      <td>1.78</td>\n",
              "      <td>STK</td>\n",
              "      <td>STK</td>\n",
              "      <td>unknown</td>\n",
              "      <td>NaN</td>\n",
              "      <td>unknown</td>\n",
              "      <td>unknown</td>\n",
              "      <td>unknown</td>\n",
              "      <td>unknown</td>\n",
              "      <td>200</td>\n",
              "    </tr>\n",
              "    <tr>\n",
              "      <th>2</th>\n",
              "      <td>2</td>\n",
              "      <td>Round</td>\n",
              "      <td>E</td>\n",
              "      <td>VVS2</td>\n",
              "      <td>0.09</td>\n",
              "      <td>Excellent</td>\n",
              "      <td>IGI</td>\n",
              "      <td>Very Good</td>\n",
              "      <td>Very Good</td>\n",
              "      <td>unknown</td>\n",
              "      <td>...</td>\n",
              "      <td>1.77</td>\n",
              "      <td>TN</td>\n",
              "      <td>M</td>\n",
              "      <td>unknown</td>\n",
              "      <td>NaN</td>\n",
              "      <td>unknown</td>\n",
              "      <td>unknown</td>\n",
              "      <td>unknown</td>\n",
              "      <td>unknown</td>\n",
              "      <td>200</td>\n",
              "    </tr>\n",
              "    <tr>\n",
              "      <th>3</th>\n",
              "      <td>3</td>\n",
              "      <td>Round</td>\n",
              "      <td>E</td>\n",
              "      <td>VVS2</td>\n",
              "      <td>0.09</td>\n",
              "      <td>Excellent</td>\n",
              "      <td>IGI</td>\n",
              "      <td>Very Good</td>\n",
              "      <td>Very Good</td>\n",
              "      <td>unknown</td>\n",
              "      <td>...</td>\n",
              "      <td>1.78</td>\n",
              "      <td>M</td>\n",
              "      <td>STK</td>\n",
              "      <td>unknown</td>\n",
              "      <td>NaN</td>\n",
              "      <td>unknown</td>\n",
              "      <td>unknown</td>\n",
              "      <td>unknown</td>\n",
              "      <td>unknown</td>\n",
              "      <td>200</td>\n",
              "    </tr>\n",
              "    <tr>\n",
              "      <th>4</th>\n",
              "      <td>4</td>\n",
              "      <td>Round</td>\n",
              "      <td>E</td>\n",
              "      <td>VVS2</td>\n",
              "      <td>0.09</td>\n",
              "      <td>Very Good</td>\n",
              "      <td>IGI</td>\n",
              "      <td>Very Good</td>\n",
              "      <td>Excellent</td>\n",
              "      <td>unknown</td>\n",
              "      <td>...</td>\n",
              "      <td>1.82</td>\n",
              "      <td>STK</td>\n",
              "      <td>STK</td>\n",
              "      <td>unknown</td>\n",
              "      <td>NaN</td>\n",
              "      <td>unknown</td>\n",
              "      <td>unknown</td>\n",
              "      <td>unknown</td>\n",
              "      <td>unknown</td>\n",
              "      <td>200</td>\n",
              "    </tr>\n",
              "    <tr>\n",
              "      <th>...</th>\n",
              "      <td>...</td>\n",
              "      <td>...</td>\n",
              "      <td>...</td>\n",
              "      <td>...</td>\n",
              "      <td>...</td>\n",
              "      <td>...</td>\n",
              "      <td>...</td>\n",
              "      <td>...</td>\n",
              "      <td>...</td>\n",
              "      <td>...</td>\n",
              "      <td>...</td>\n",
              "      <td>...</td>\n",
              "      <td>...</td>\n",
              "      <td>...</td>\n",
              "      <td>...</td>\n",
              "      <td>...</td>\n",
              "      <td>...</td>\n",
              "      <td>...</td>\n",
              "      <td>...</td>\n",
              "      <td>...</td>\n",
              "      <td>...</td>\n",
              "    </tr>\n",
              "    <tr>\n",
              "      <th>219698</th>\n",
              "      <td>219699</td>\n",
              "      <td>Round</td>\n",
              "      <td>E</td>\n",
              "      <td>VS1</td>\n",
              "      <td>10.65</td>\n",
              "      <td>Excellent</td>\n",
              "      <td>GIA</td>\n",
              "      <td>Excellent</td>\n",
              "      <td>Excellent</td>\n",
              "      <td>unknown</td>\n",
              "      <td>...</td>\n",
              "      <td>8.66</td>\n",
              "      <td>M</td>\n",
              "      <td>STK</td>\n",
              "      <td>unknown</td>\n",
              "      <td>NaN</td>\n",
              "      <td>unknown</td>\n",
              "      <td>unknown</td>\n",
              "      <td>unknown</td>\n",
              "      <td>unknown</td>\n",
              "      <td>1210692</td>\n",
              "    </tr>\n",
              "    <tr>\n",
              "      <th>219699</th>\n",
              "      <td>219700</td>\n",
              "      <td>Radiant</td>\n",
              "      <td>unknown</td>\n",
              "      <td>VS2</td>\n",
              "      <td>5.17</td>\n",
              "      <td>unknown</td>\n",
              "      <td>GIA</td>\n",
              "      <td>Very Good</td>\n",
              "      <td>Very Good</td>\n",
              "      <td>unknown</td>\n",
              "      <td>...</td>\n",
              "      <td>5.71</td>\n",
              "      <td>TK</td>\n",
              "      <td>XTK</td>\n",
              "      <td>unknown</td>\n",
              "      <td>NaN</td>\n",
              "      <td>Green</td>\n",
              "      <td>unknown</td>\n",
              "      <td>NaN</td>\n",
              "      <td>Fancy Light</td>\n",
              "      <td>1292500</td>\n",
              "    </tr>\n",
              "    <tr>\n",
              "      <th>219700</th>\n",
              "      <td>219701</td>\n",
              "      <td>Round</td>\n",
              "      <td>E</td>\n",
              "      <td>VS1</td>\n",
              "      <td>18.07</td>\n",
              "      <td>Excellent</td>\n",
              "      <td>GIA</td>\n",
              "      <td>Excellent</td>\n",
              "      <td>Excellent</td>\n",
              "      <td>unknown</td>\n",
              "      <td>...</td>\n",
              "      <td>10.20</td>\n",
              "      <td>TN</td>\n",
              "      <td>M</td>\n",
              "      <td>unknown</td>\n",
              "      <td>NaN</td>\n",
              "      <td>unknown</td>\n",
              "      <td>unknown</td>\n",
              "      <td>unknown</td>\n",
              "      <td>unknown</td>\n",
              "      <td>1315496</td>\n",
              "    </tr>\n",
              "    <tr>\n",
              "      <th>219701</th>\n",
              "      <td>219702</td>\n",
              "      <td>Princess</td>\n",
              "      <td>unknown</td>\n",
              "      <td>SI2</td>\n",
              "      <td>0.90</td>\n",
              "      <td>unknown</td>\n",
              "      <td>GIA</td>\n",
              "      <td>Good</td>\n",
              "      <td>Good</td>\n",
              "      <td>unknown</td>\n",
              "      <td>...</td>\n",
              "      <td>3.47</td>\n",
              "      <td>XTN</td>\n",
              "      <td>VTK</td>\n",
              "      <td>unknown</td>\n",
              "      <td>Faint</td>\n",
              "      <td>Red</td>\n",
              "      <td>unknown</td>\n",
              "      <td>unknown</td>\n",
              "      <td>Fancy</td>\n",
              "      <td>1350000</td>\n",
              "    </tr>\n",
              "    <tr>\n",
              "      <th>219702</th>\n",
              "      <td>219703</td>\n",
              "      <td>Pear</td>\n",
              "      <td>unknown</td>\n",
              "      <td>VVS2</td>\n",
              "      <td>10.03</td>\n",
              "      <td>unknown</td>\n",
              "      <td>GIA</td>\n",
              "      <td>Very Good</td>\n",
              "      <td>Excellent</td>\n",
              "      <td>unknown</td>\n",
              "      <td>...</td>\n",
              "      <td>7.39</td>\n",
              "      <td>unknown</td>\n",
              "      <td>unknown</td>\n",
              "      <td>unknown</td>\n",
              "      <td>NaN</td>\n",
              "      <td>Yellow</td>\n",
              "      <td>unknown</td>\n",
              "      <td>unknown</td>\n",
              "      <td>Fancy Vivid</td>\n",
              "      <td>1449881</td>\n",
              "    </tr>\n",
              "  </tbody>\n",
              "</table>\n",
              "<p>219703 rows × 26 columns</p>\n",
              "</div>\n",
              "    <div class=\"colab-df-buttons\">\n",
              "\n",
              "  <div class=\"colab-df-container\">\n",
              "    <button class=\"colab-df-convert\" onclick=\"convertToInteractive('df-18560507-fc46-4bc2-9345-f2cb31e61fb4')\"\n",
              "            title=\"Convert this dataframe to an interactive table.\"\n",
              "            style=\"display:none;\">\n",
              "\n",
              "  <svg xmlns=\"http://www.w3.org/2000/svg\" height=\"24px\" viewBox=\"0 -960 960 960\">\n",
              "    <path d=\"M120-120v-720h720v720H120Zm60-500h600v-160H180v160Zm220 220h160v-160H400v160Zm0 220h160v-160H400v160ZM180-400h160v-160H180v160Zm440 0h160v-160H620v160ZM180-180h160v-160H180v160Zm440 0h160v-160H620v160Z\"/>\n",
              "  </svg>\n",
              "    </button>\n",
              "\n",
              "  <style>\n",
              "    .colab-df-container {\n",
              "      display:flex;\n",
              "      gap: 12px;\n",
              "    }\n",
              "\n",
              "    .colab-df-convert {\n",
              "      background-color: #E8F0FE;\n",
              "      border: none;\n",
              "      border-radius: 50%;\n",
              "      cursor: pointer;\n",
              "      display: none;\n",
              "      fill: #1967D2;\n",
              "      height: 32px;\n",
              "      padding: 0 0 0 0;\n",
              "      width: 32px;\n",
              "    }\n",
              "\n",
              "    .colab-df-convert:hover {\n",
              "      background-color: #E2EBFA;\n",
              "      box-shadow: 0px 1px 2px rgba(60, 64, 67, 0.3), 0px 1px 3px 1px rgba(60, 64, 67, 0.15);\n",
              "      fill: #174EA6;\n",
              "    }\n",
              "\n",
              "    .colab-df-buttons div {\n",
              "      margin-bottom: 4px;\n",
              "    }\n",
              "\n",
              "    [theme=dark] .colab-df-convert {\n",
              "      background-color: #3B4455;\n",
              "      fill: #D2E3FC;\n",
              "    }\n",
              "\n",
              "    [theme=dark] .colab-df-convert:hover {\n",
              "      background-color: #434B5C;\n",
              "      box-shadow: 0px 1px 3px 1px rgba(0, 0, 0, 0.15);\n",
              "      filter: drop-shadow(0px 1px 2px rgba(0, 0, 0, 0.3));\n",
              "      fill: #FFFFFF;\n",
              "    }\n",
              "  </style>\n",
              "\n",
              "    <script>\n",
              "      const buttonEl =\n",
              "        document.querySelector('#df-18560507-fc46-4bc2-9345-f2cb31e61fb4 button.colab-df-convert');\n",
              "      buttonEl.style.display =\n",
              "        google.colab.kernel.accessAllowed ? 'block' : 'none';\n",
              "\n",
              "      async function convertToInteractive(key) {\n",
              "        const element = document.querySelector('#df-18560507-fc46-4bc2-9345-f2cb31e61fb4');\n",
              "        const dataTable =\n",
              "          await google.colab.kernel.invokeFunction('convertToInteractive',\n",
              "                                                    [key], {});\n",
              "        if (!dataTable) return;\n",
              "\n",
              "        const docLinkHtml = 'Like what you see? Visit the ' +\n",
              "          '<a target=\"_blank\" href=https://colab.research.google.com/notebooks/data_table.ipynb>data table notebook</a>'\n",
              "          + ' to learn more about interactive tables.';\n",
              "        element.innerHTML = '';\n",
              "        dataTable['output_type'] = 'display_data';\n",
              "        await google.colab.output.renderOutput(dataTable, element);\n",
              "        const docLink = document.createElement('div');\n",
              "        docLink.innerHTML = docLinkHtml;\n",
              "        element.appendChild(docLink);\n",
              "      }\n",
              "    </script>\n",
              "  </div>\n",
              "\n",
              "\n",
              "<div id=\"df-1c995d3c-17fd-4c17-9e58-25886627a301\">\n",
              "  <button class=\"colab-df-quickchart\" onclick=\"quickchart('df-1c995d3c-17fd-4c17-9e58-25886627a301')\"\n",
              "            title=\"Suggest charts\"\n",
              "            style=\"display:none;\">\n",
              "\n",
              "<svg xmlns=\"http://www.w3.org/2000/svg\" height=\"24px\"viewBox=\"0 0 24 24\"\n",
              "     width=\"24px\">\n",
              "    <g>\n",
              "        <path d=\"M19 3H5c-1.1 0-2 .9-2 2v14c0 1.1.9 2 2 2h14c1.1 0 2-.9 2-2V5c0-1.1-.9-2-2-2zM9 17H7v-7h2v7zm4 0h-2V7h2v10zm4 0h-2v-4h2v4z\"/>\n",
              "    </g>\n",
              "</svg>\n",
              "  </button>\n",
              "\n",
              "<style>\n",
              "  .colab-df-quickchart {\n",
              "      --bg-color: #E8F0FE;\n",
              "      --fill-color: #1967D2;\n",
              "      --hover-bg-color: #E2EBFA;\n",
              "      --hover-fill-color: #174EA6;\n",
              "      --disabled-fill-color: #AAA;\n",
              "      --disabled-bg-color: #DDD;\n",
              "  }\n",
              "\n",
              "  [theme=dark] .colab-df-quickchart {\n",
              "      --bg-color: #3B4455;\n",
              "      --fill-color: #D2E3FC;\n",
              "      --hover-bg-color: #434B5C;\n",
              "      --hover-fill-color: #FFFFFF;\n",
              "      --disabled-bg-color: #3B4455;\n",
              "      --disabled-fill-color: #666;\n",
              "  }\n",
              "\n",
              "  .colab-df-quickchart {\n",
              "    background-color: var(--bg-color);\n",
              "    border: none;\n",
              "    border-radius: 50%;\n",
              "    cursor: pointer;\n",
              "    display: none;\n",
              "    fill: var(--fill-color);\n",
              "    height: 32px;\n",
              "    padding: 0;\n",
              "    width: 32px;\n",
              "  }\n",
              "\n",
              "  .colab-df-quickchart:hover {\n",
              "    background-color: var(--hover-bg-color);\n",
              "    box-shadow: 0 1px 2px rgba(60, 64, 67, 0.3), 0 1px 3px 1px rgba(60, 64, 67, 0.15);\n",
              "    fill: var(--button-hover-fill-color);\n",
              "  }\n",
              "\n",
              "  .colab-df-quickchart-complete:disabled,\n",
              "  .colab-df-quickchart-complete:disabled:hover {\n",
              "    background-color: var(--disabled-bg-color);\n",
              "    fill: var(--disabled-fill-color);\n",
              "    box-shadow: none;\n",
              "  }\n",
              "\n",
              "  .colab-df-spinner {\n",
              "    border: 2px solid var(--fill-color);\n",
              "    border-color: transparent;\n",
              "    border-bottom-color: var(--fill-color);\n",
              "    animation:\n",
              "      spin 1s steps(1) infinite;\n",
              "  }\n",
              "\n",
              "  @keyframes spin {\n",
              "    0% {\n",
              "      border-color: transparent;\n",
              "      border-bottom-color: var(--fill-color);\n",
              "      border-left-color: var(--fill-color);\n",
              "    }\n",
              "    20% {\n",
              "      border-color: transparent;\n",
              "      border-left-color: var(--fill-color);\n",
              "      border-top-color: var(--fill-color);\n",
              "    }\n",
              "    30% {\n",
              "      border-color: transparent;\n",
              "      border-left-color: var(--fill-color);\n",
              "      border-top-color: var(--fill-color);\n",
              "      border-right-color: var(--fill-color);\n",
              "    }\n",
              "    40% {\n",
              "      border-color: transparent;\n",
              "      border-right-color: var(--fill-color);\n",
              "      border-top-color: var(--fill-color);\n",
              "    }\n",
              "    60% {\n",
              "      border-color: transparent;\n",
              "      border-right-color: var(--fill-color);\n",
              "    }\n",
              "    80% {\n",
              "      border-color: transparent;\n",
              "      border-right-color: var(--fill-color);\n",
              "      border-bottom-color: var(--fill-color);\n",
              "    }\n",
              "    90% {\n",
              "      border-color: transparent;\n",
              "      border-bottom-color: var(--fill-color);\n",
              "    }\n",
              "  }\n",
              "</style>\n",
              "\n",
              "  <script>\n",
              "    async function quickchart(key) {\n",
              "      const quickchartButtonEl =\n",
              "        document.querySelector('#' + key + ' button');\n",
              "      quickchartButtonEl.disabled = true;  // To prevent multiple clicks.\n",
              "      quickchartButtonEl.classList.add('colab-df-spinner');\n",
              "      try {\n",
              "        const charts = await google.colab.kernel.invokeFunction(\n",
              "            'suggestCharts', [key], {});\n",
              "      } catch (error) {\n",
              "        console.error('Error during call to suggestCharts:', error);\n",
              "      }\n",
              "      quickchartButtonEl.classList.remove('colab-df-spinner');\n",
              "      quickchartButtonEl.classList.add('colab-df-quickchart-complete');\n",
              "    }\n",
              "    (() => {\n",
              "      let quickchartButtonEl =\n",
              "        document.querySelector('#df-1c995d3c-17fd-4c17-9e58-25886627a301 button');\n",
              "      quickchartButtonEl.style.display =\n",
              "        google.colab.kernel.accessAllowed ? 'block' : 'none';\n",
              "    })();\n",
              "  </script>\n",
              "</div>\n",
              "    </div>\n",
              "  </div>\n"
            ],
            "application/vnd.google.colaboratory.intrinsic+json": {
              "type": "dataframe",
              "variable_name": "diamonds"
            }
          },
          "metadata": {},
          "execution_count": 157
        }
      ]
    },
    {
      "cell_type": "markdown",
      "source": [
        "(0.5 балла) Выведете первые 5 строк датасета:"
      ],
      "metadata": {
        "id": "vlw_3lXG6bhv"
      }
    },
    {
      "cell_type": "code",
      "source": [
        "print(diamonds.head(5))"
      ],
      "metadata": {
        "id": "gHA-AnSE6fth",
        "outputId": "6a151eb4-ef77-41e2-f675-74e8495bb968",
        "colab": {
          "base_uri": "https://localhost:8080/"
        }
      },
      "execution_count": 158,
      "outputs": [
        {
          "output_type": "stream",
          "name": "stdout",
          "text": [
            "   Unnamed: 0    cut color clarity  carat_weight cut_quality  lab   symmetry  \\\n",
            "0           0  Round     E    VVS2          0.09   Excellent  IGI  Very Good   \n",
            "1           1  Round     E    VVS2          0.09   Very Good  IGI  Very Good   \n",
            "2           2  Round     E    VVS2          0.09   Excellent  IGI  Very Good   \n",
            "3           3  Round     E    VVS2          0.09   Excellent  IGI  Very Good   \n",
            "4           4  Round     E    VVS2          0.09   Very Good  IGI  Very Good   \n",
            "\n",
            "      polish eye_clean  ... meas_depth girdle_min  girdle_max  fluor_color  \\\n",
            "0  Very Good   unknown  ...       1.79          M           M      unknown   \n",
            "1  Very Good   unknown  ...       1.78        STK         STK      unknown   \n",
            "2  Very Good   unknown  ...       1.77         TN           M      unknown   \n",
            "3  Very Good   unknown  ...       1.78          M         STK      unknown   \n",
            "4  Excellent   unknown  ...       1.82        STK         STK      unknown   \n",
            "\n",
            "   fluor_intensity  fancy_color_dominant_color  fancy_color_secondary_color  \\\n",
            "0              NaN                     unknown                      unknown   \n",
            "1              NaN                     unknown                      unknown   \n",
            "2              NaN                     unknown                      unknown   \n",
            "3              NaN                     unknown                      unknown   \n",
            "4              NaN                     unknown                      unknown   \n",
            "\n",
            "  fancy_color_overtone fancy_color_intensity total_sales_price  \n",
            "0              unknown               unknown               200  \n",
            "1              unknown               unknown               200  \n",
            "2              unknown               unknown               200  \n",
            "3              unknown               unknown               200  \n",
            "4              unknown               unknown               200  \n",
            "\n",
            "[5 rows x 26 columns]\n"
          ]
        }
      ]
    },
    {
      "cell_type": "markdown",
      "source": [
        "(0.5 балла) Найдите количество бриллиантов всего в данном датасете:"
      ],
      "metadata": {
        "id": "gat7bnPQ6fCE"
      }
    },
    {
      "cell_type": "code",
      "source": [
        "print(len(diamonds))"
      ],
      "metadata": {
        "id": "-9x6z3-J7C-v",
        "outputId": "17623a12-5dca-408f-c76d-223caf78b489",
        "colab": {
          "base_uri": "https://localhost:8080/"
        }
      },
      "execution_count": 159,
      "outputs": [
        {
          "output_type": "stream",
          "name": "stdout",
          "text": [
            "219703\n"
          ]
        }
      ]
    },
    {
      "cell_type": "markdown",
      "source": [
        "(0.5 балла) Выведите максимальную и минимальную цену бриллианта в формате `номер - цена`:"
      ],
      "metadata": {
        "id": "fYQuIdtL7DFp"
      }
    },
    {
      "cell_type": "code",
      "source": [
        "print(diamonds['total_sales_price'].idxmax(), '-', diamonds['total_sales_price'].max())\n",
        "print(diamonds['total_sales_price'].idxmin(), '-', diamonds['total_sales_price'].min())"
      ],
      "metadata": {
        "id": "D_7sjzjP7SEj",
        "outputId": "573b097c-8f04-4912-aa0f-62363514310a",
        "colab": {
          "base_uri": "https://localhost:8080/"
        }
      },
      "execution_count": 160,
      "outputs": [
        {
          "output_type": "stream",
          "name": "stdout",
          "text": [
            "219702 - 1449881\n",
            "0 - 200\n"
          ]
        }
      ]
    },
    {
      "cell_type": "markdown",
      "source": [
        "(1 балл) Посчитайте количество пропусков (пропуском считается значение `unknown` или `None`):"
      ],
      "metadata": {
        "id": "E2mf4IIO7SOg"
      }
    },
    {
      "cell_type": "code",
      "source": [
        "diamonds = diamonds.replace(to_replace='unknown', value=np.nan)\n",
        "diamonds = diamonds.fillna(value=np.nan)\n",
        "print(diamonds.isna().sum().sum())"
      ],
      "metadata": {
        "id": "BuJZ0UoN7qAU",
        "colab": {
          "base_uri": "https://localhost:8080/"
        },
        "outputId": "29fe4ab1-740e-4953-98a4-aad4ce2484c9"
      },
      "execution_count": 161,
      "outputs": [
        {
          "output_type": "stream",
          "name": "stdout",
          "text": [
            "1891168\n"
          ]
        }
      ]
    },
    {
      "cell_type": "markdown",
      "source": [
        "(1 балл) Найдите в каких столбцах присутствуют пропуски:"
      ],
      "metadata": {
        "id": "d5LWUc_fh0vb"
      }
    },
    {
      "cell_type": "code",
      "source": [
        "sum_isna = diamonds.isna().sum()\n",
        "for name in diamonds.columns:\n",
        "  if sum_isna[name]:\n",
        "    print(name)"
      ],
      "metadata": {
        "id": "IsU49Fouh5vy",
        "colab": {
          "base_uri": "https://localhost:8080/"
        },
        "outputId": "8456a404-c3bc-4ed9-eebe-448c118a37d2"
      },
      "execution_count": 162,
      "outputs": [
        {
          "output_type": "stream",
          "name": "stdout",
          "text": [
            "color\n",
            "cut_quality\n",
            "eye_clean\n",
            "culet_size\n",
            "culet_condition\n",
            "girdle_min\n",
            "girdle_max\n",
            "fluor_color\n",
            "fluor_intensity\n",
            "fancy_color_dominant_color\n",
            "fancy_color_secondary_color\n",
            "fancy_color_overtone\n",
            "fancy_color_intensity\n"
          ]
        }
      ]
    },
    {
      "cell_type": "markdown",
      "source": [
        "В нашем датасете присутствуют колонки, которые начинаются с `fancy_color_` или `fluor_`. Большинство значений в этих колонках - `unknown` или `None`, поэтому мы считаем их малоинформативными."
      ],
      "metadata": {
        "id": "UznNZpJ47qGX"
      }
    },
    {
      "cell_type": "markdown",
      "source": [
        "Ваша задача:"
      ],
      "metadata": {
        "id": "Rkk6Hr2Ui87X"
      }
    },
    {
      "cell_type": "markdown",
      "source": [
        "1. (0.5 балла) найти количество таких колонок, которые начинаются с `fancy_color_` или `fluor_`:"
      ],
      "metadata": {
        "id": "YYBDAgSSi-JU"
      }
    },
    {
      "cell_type": "code",
      "source": [
        "bad_columns = list(filter(lambda l: l.startswith('fancy_color_') or l.startswith('fluor_'), diamonds.columns))\n",
        "print(len(bad_columns))"
      ],
      "metadata": {
        "id": "nbTUkk4T8-wO",
        "outputId": "1662fe60-16ba-46cb-a3e5-37e5a11ea5d9",
        "colab": {
          "base_uri": "https://localhost:8080/"
        }
      },
      "execution_count": 163,
      "outputs": [
        {
          "output_type": "stream",
          "name": "stdout",
          "text": [
            "6\n"
          ]
        }
      ]
    },
    {
      "cell_type": "markdown",
      "source": [
        "2. (0.5 балла) найти количество информативных (не `None` или `unknown`) значений в этих колонках:"
      ],
      "metadata": {
        "id": "imop6nNujA6z"
      }
    },
    {
      "cell_type": "code",
      "source": [
        "for col in bad_columns:\n",
        "  print(col, end=\":    \")\n",
        "  print(diamonds[col].notna().sum())"
      ],
      "metadata": {
        "id": "jtJcBwAVjPHU",
        "outputId": "1d537d80-0ab3-4d53-84d1-ef43684de4d8",
        "colab": {
          "base_uri": "https://localhost:8080/"
        }
      },
      "execution_count": 168,
      "outputs": [
        {
          "output_type": "stream",
          "name": "stdout",
          "text": [
            "fluor_color:    15726\n",
            "fluor_intensity:    76084\n",
            "fancy_color_dominant_color:    9164\n",
            "fancy_color_secondary_color:    1062\n",
            "fancy_color_overtone:    388\n",
            "fancy_color_intensity:    9162\n"
          ]
        }
      ]
    },
    {
      "cell_type": "markdown",
      "source": [
        "3. (0.5 балла) удалить данные колонки из датасета, сохранив изменения (в дальнейшем работаем измененным датасетом):"
      ],
      "metadata": {
        "id": "wFbuTnkbjPeq"
      }
    },
    {
      "cell_type": "code",
      "source": [
        "diamonds.drop(bad_columns, axis=1, inplace=True)\n",
        "print(diamonds.head())"
      ],
      "metadata": {
        "id": "qSZ5cmKWjutz",
        "outputId": "2b36092c-3037-4ac1-ec29-cf6c24352880",
        "colab": {
          "base_uri": "https://localhost:8080/"
        }
      },
      "execution_count": 169,
      "outputs": [
        {
          "output_type": "stream",
          "name": "stdout",
          "text": [
            "   Unnamed: 0    cut color clarity  carat_weight cut_quality  lab   symmetry  \\\n",
            "0           0  Round     E    VVS2          0.09   Excellent  IGI  Very Good   \n",
            "1           1  Round     E    VVS2          0.09   Very Good  IGI  Very Good   \n",
            "2           2  Round     E    VVS2          0.09   Excellent  IGI  Very Good   \n",
            "3           3  Round     E    VVS2          0.09   Excellent  IGI  Very Good   \n",
            "4           4  Round     E    VVS2          0.09   Very Good  IGI  Very Good   \n",
            "\n",
            "      polish eye_clean culet_size culet_condition  depth_percent  \\\n",
            "0  Very Good       NaN          N             NaN           62.7   \n",
            "1  Very Good       NaN          N             NaN           61.9   \n",
            "2  Very Good       NaN        NaN             NaN           61.1   \n",
            "3  Very Good       NaN        NaN             NaN           62.0   \n",
            "4  Excellent       NaN          N             NaN           64.9   \n",
            "\n",
            "   table_percent  meas_length  meas_width  meas_depth girdle_min girdle_max  \\\n",
            "0           59.0         2.85        2.87        1.79          M          M   \n",
            "1           59.0         2.84        2.89        1.78        STK        STK   \n",
            "2           59.0         2.88        2.90        1.77         TN          M   \n",
            "3           59.0         2.86        2.88        1.78          M        STK   \n",
            "4           58.5         2.79        2.83        1.82        STK        STK   \n",
            "\n",
            "   total_sales_price  \n",
            "0                200  \n",
            "1                200  \n",
            "2                200  \n",
            "3                200  \n",
            "4                200  \n"
          ]
        }
      ]
    },
    {
      "cell_type": "markdown",
      "source": [
        "(1 балл) Проделайте тоже самое для колонок, начинающихся с `culet_`:"
      ],
      "metadata": {
        "id": "JID3q4vr8-2h"
      }
    },
    {
      "cell_type": "code",
      "source": [
        "bad_columns = list(filter(lambda l: l.startswith('culet_'), diamonds.columns))\n",
        "print(len(bad_columns))\n",
        "\n",
        "for col in bad_columns:\n",
        "  print(col, end=\":    \")\n",
        "  print(diamonds[col].notna().sum())\n",
        "\n",
        "diamonds.drop(bad_columns, axis=1, inplace=True)\n",
        "print(diamonds.head())"
      ],
      "metadata": {
        "id": "Wfsvzyad-T6P",
        "outputId": "fa89cf95-2d03-4783-aa5d-bc39f623d75c",
        "colab": {
          "base_uri": "https://localhost:8080/"
        }
      },
      "execution_count": 170,
      "outputs": [
        {
          "output_type": "stream",
          "name": "stdout",
          "text": [
            "2\n",
            "culet_size:    133963\n",
            "culet_condition:    15319\n",
            "   Unnamed: 0    cut color clarity  carat_weight cut_quality  lab   symmetry  \\\n",
            "0           0  Round     E    VVS2          0.09   Excellent  IGI  Very Good   \n",
            "1           1  Round     E    VVS2          0.09   Very Good  IGI  Very Good   \n",
            "2           2  Round     E    VVS2          0.09   Excellent  IGI  Very Good   \n",
            "3           3  Round     E    VVS2          0.09   Excellent  IGI  Very Good   \n",
            "4           4  Round     E    VVS2          0.09   Very Good  IGI  Very Good   \n",
            "\n",
            "      polish eye_clean  depth_percent  table_percent  meas_length  meas_width  \\\n",
            "0  Very Good       NaN           62.7           59.0         2.85        2.87   \n",
            "1  Very Good       NaN           61.9           59.0         2.84        2.89   \n",
            "2  Very Good       NaN           61.1           59.0         2.88        2.90   \n",
            "3  Very Good       NaN           62.0           59.0         2.86        2.88   \n",
            "4  Excellent       NaN           64.9           58.5         2.79        2.83   \n",
            "\n",
            "   meas_depth girdle_min girdle_max  total_sales_price  \n",
            "0        1.79          M          M                200  \n",
            "1        1.78        STK        STK                200  \n",
            "2        1.77         TN          M                200  \n",
            "3        1.78          M        STK                200  \n",
            "4        1.82        STK        STK                200  \n"
          ]
        }
      ]
    },
    {
      "cell_type": "markdown",
      "source": [
        "(1 балл) Посчитайте сколько бы стоил (в тысячах долларов) сейф, в котором хранились бы все бриллианты из датасета:"
      ],
      "metadata": {
        "id": "7_qYv5Xm-UCz"
      }
    },
    {
      "cell_type": "code",
      "source": [
        "print(diamonds['total_sales_price'].sum())"
      ],
      "metadata": {
        "id": "g2wVyz5U-cx7",
        "outputId": "b027e491-b636-4a37-cc2d-46cb7b700ca5",
        "colab": {
          "base_uri": "https://localhost:8080/"
        }
      },
      "execution_count": 171,
      "outputs": [
        {
          "output_type": "stream",
          "name": "stdout",
          "text": [
            "1517721991\n"
          ]
        }
      ]
    },
    {
      "cell_type": "markdown",
      "source": [
        "Немного необоснованных манипуляций."
      ],
      "metadata": {
        "id": "GVwspHrUkRFv"
      }
    },
    {
      "cell_type": "markdown",
      "source": [
        "(1 балл) Выберите из датасета строки с четными индексами и выведете значения (не меняя нумерацию индексов):"
      ],
      "metadata": {
        "id": "0j5Yr0mFxxfu"
      }
    },
    {
      "cell_type": "code",
      "source": [
        "print(diamonds.loc[::2])"
      ],
      "metadata": {
        "id": "dW2GOROfx6yd",
        "outputId": "73059bfb-4202-4d69-9aa3-4da0884f6a86",
        "colab": {
          "base_uri": "https://localhost:8080/"
        }
      },
      "execution_count": 172,
      "outputs": [
        {
          "output_type": "stream",
          "name": "stdout",
          "text": [
            "        Unnamed: 0    cut color clarity  carat_weight cut_quality  lab  \\\n",
            "0                0  Round     E    VVS2          0.09   Excellent  IGI   \n",
            "2                2  Round     E    VVS2          0.09   Excellent  IGI   \n",
            "4                4  Round     E    VVS2          0.09   Very Good  IGI   \n",
            "6                6  Round     E    VVS2          0.09   Very Good  IGI   \n",
            "8                8  Round     E    VVS2          0.09   Very Good  IGI   \n",
            "...            ...    ...   ...     ...           ...         ...  ...   \n",
            "219694      219695  Round     D      IF         12.52   Excellent  HRD   \n",
            "219696      219697   Oval     H     VS2         18.88         NaN  GIA   \n",
            "219698      219699  Round     E     VS1         10.65   Excellent  GIA   \n",
            "219700      219701  Round     E     VS1         18.07   Excellent  GIA   \n",
            "219702      219703   Pear   NaN    VVS2         10.03         NaN  GIA   \n",
            "\n",
            "         symmetry     polish eye_clean  depth_percent  table_percent  \\\n",
            "0       Very Good  Very Good       NaN           62.7           59.0   \n",
            "2       Very Good  Very Good       NaN           61.1           59.0   \n",
            "4       Very Good  Excellent       NaN           64.9           58.5   \n",
            "6       Very Good  Very Good       NaN           64.0           57.0   \n",
            "8       Very Good  Very Good       NaN           63.5           59.5   \n",
            "...           ...        ...       ...            ...            ...   \n",
            "219694  Excellent  Excellent       NaN           62.1           58.0   \n",
            "219696  Excellent  Excellent       NaN           57.1           55.0   \n",
            "219698  Excellent  Excellent       NaN           61.3           58.0   \n",
            "219700  Excellent  Excellent       NaN           60.2           59.0   \n",
            "219702  Very Good  Excellent       NaN           66.7           65.0   \n",
            "\n",
            "        meas_length  meas_width  meas_depth girdle_min girdle_max  \\\n",
            "0              2.85        2.87        1.79          M          M   \n",
            "2              2.88        2.90        1.77         TN          M   \n",
            "4              2.79        2.83        1.82        STK        STK   \n",
            "6              2.85        2.88        1.84        STK        STK   \n",
            "8              2.89        2.92        1.85        STK         TK   \n",
            "...             ...         ...         ...        ...        ...   \n",
            "219694        14.84       14.91        9.24        NaN        NaN   \n",
            "219696        21.34       15.23        8.69         TN        STK   \n",
            "219698        14.06       14.18        8.66          M        STK   \n",
            "219700        17.06       17.10       10.20         TN          M   \n",
            "219702        15.61       11.09        7.39        NaN        NaN   \n",
            "\n",
            "        total_sales_price  \n",
            "0                     200  \n",
            "2                     200  \n",
            "4                     200  \n",
            "6                     200  \n",
            "8                     200  \n",
            "...                   ...  \n",
            "219694            1121792  \n",
            "219696            1132347  \n",
            "219698            1210692  \n",
            "219700            1315496  \n",
            "219702            1449881  \n",
            "\n",
            "[109852 rows x 18 columns]\n"
          ]
        }
      ]
    },
    {
      "cell_type": "markdown",
      "source": [
        "(0.5 балла) А теперь с индексами, кратными 6:"
      ],
      "metadata": {
        "id": "mNXqS4oox7TF"
      }
    },
    {
      "cell_type": "code",
      "source": [
        "print(diamonds.loc[::6])"
      ],
      "metadata": {
        "id": "hy8LyzXix_SB",
        "outputId": "abebd845-4983-4078-bf17-87c573f8faef",
        "colab": {
          "base_uri": "https://localhost:8080/"
        }
      },
      "execution_count": 173,
      "outputs": [
        {
          "output_type": "stream",
          "name": "stdout",
          "text": [
            "        Unnamed: 0      cut color clarity  carat_weight cut_quality  lab  \\\n",
            "0                0    Round     E    VVS2          0.09   Excellent  IGI   \n",
            "6                6    Round     E    VVS2          0.09   Very Good  IGI   \n",
            "12              12    Round     E    VVS2          0.09   Very Good  IGI   \n",
            "18              18    Round     E    VVS2          0.09   Excellent  IGI   \n",
            "24              24    Round     L      I1          0.34   Excellent  IGI   \n",
            "...            ...      ...   ...     ...           ...         ...  ...   \n",
            "219678      219679    Round     G     VS1         10.23   Excellent  GIA   \n",
            "219684      219685  Radiant   NaN      I1          0.89         NaN  GIA   \n",
            "219690      219691    Round     D    VVS2         10.10   Excellent  GIA   \n",
            "219696      219697     Oval     H     VS2         18.88         NaN  GIA   \n",
            "219702      219703     Pear   NaN    VVS2         10.03         NaN  GIA   \n",
            "\n",
            "         symmetry     polish eye_clean  depth_percent  table_percent  \\\n",
            "0       Very Good  Very Good       NaN           62.7           59.0   \n",
            "6       Very Good  Very Good       NaN           64.0           57.0   \n",
            "12      Very Good  Very Good       NaN           61.8           58.5   \n",
            "18      Very Good  Very Good       NaN           61.0           60.0   \n",
            "24      Excellent  Excellent       NaN            0.0            0.0   \n",
            "...           ...        ...       ...            ...            ...   \n",
            "219678  Excellent  Excellent       NaN           62.7           55.0   \n",
            "219684       Good       Good       NaN           63.8           57.0   \n",
            "219690  Excellent  Excellent       NaN           59.4           59.0   \n",
            "219696  Excellent  Excellent       NaN           57.1           55.0   \n",
            "219702  Very Good  Excellent       NaN           66.7           65.0   \n",
            "\n",
            "        meas_length  meas_width  meas_depth girdle_min girdle_max  \\\n",
            "0              2.85        2.87        1.79          M          M   \n",
            "6              2.85        2.88        1.84        STK        STK   \n",
            "12             2.85        2.89        1.77        STK         TK   \n",
            "18             2.91        2.92        1.78          M          M   \n",
            "24             0.00        0.00        0.00        NaN        NaN   \n",
            "...             ...         ...         ...        ...        ...   \n",
            "219678        13.82       13.92        8.69         TN          M   \n",
            "219684         6.44        4.96        3.16         TK        VTK   \n",
            "219690        14.07       14.15        8.39          M        STK   \n",
            "219696        21.34       15.23        8.69         TN        STK   \n",
            "219702        15.61       11.09        7.39        NaN        NaN   \n",
            "\n",
            "        total_sales_price  \n",
            "0                     200  \n",
            "6                     200  \n",
            "12                    200  \n",
            "18                    200  \n",
            "24                    204  \n",
            "...                   ...  \n",
            "219678             859320  \n",
            "219684             982560  \n",
            "219690            1040739  \n",
            "219696            1132347  \n",
            "219702            1449881  \n",
            "\n",
            "[36618 rows x 18 columns]\n"
          ]
        }
      ]
    },
    {
      "cell_type": "markdown",
      "source": [
        "(1 балл) Выберете из датасета только категорильные признаки и выведете датасет:"
      ],
      "metadata": {
        "id": "u94LL979x_bV"
      }
    },
    {
      "cell_type": "code",
      "source": [
        "cat_feature = ['cut', 'color', 'clarity', 'cut_quality', 'lab', 'symmetry', 'polish', 'eye_clean', 'girdle_min', 'girdle_max']\n",
        "print(diamonds[cat_feature])"
      ],
      "metadata": {
        "id": "2_LBNDWXyOOl",
        "outputId": "3e4de38b-95b0-4ec1-bd46-dd25f581298a",
        "colab": {
          "base_uri": "https://localhost:8080/"
        }
      },
      "execution_count": 174,
      "outputs": [
        {
          "output_type": "stream",
          "name": "stdout",
          "text": [
            "             cut color clarity cut_quality  lab   symmetry     polish  \\\n",
            "0          Round     E    VVS2   Excellent  IGI  Very Good  Very Good   \n",
            "1          Round     E    VVS2   Very Good  IGI  Very Good  Very Good   \n",
            "2          Round     E    VVS2   Excellent  IGI  Very Good  Very Good   \n",
            "3          Round     E    VVS2   Excellent  IGI  Very Good  Very Good   \n",
            "4          Round     E    VVS2   Very Good  IGI  Very Good  Excellent   \n",
            "...          ...   ...     ...         ...  ...        ...        ...   \n",
            "219698     Round     E     VS1   Excellent  GIA  Excellent  Excellent   \n",
            "219699   Radiant   NaN     VS2         NaN  GIA  Very Good  Very Good   \n",
            "219700     Round     E     VS1   Excellent  GIA  Excellent  Excellent   \n",
            "219701  Princess   NaN     SI2         NaN  GIA       Good       Good   \n",
            "219702      Pear   NaN    VVS2         NaN  GIA  Very Good  Excellent   \n",
            "\n",
            "       eye_clean girdle_min girdle_max  \n",
            "0            NaN          M          M  \n",
            "1            NaN        STK        STK  \n",
            "2            NaN         TN          M  \n",
            "3            NaN          M        STK  \n",
            "4            NaN        STK        STK  \n",
            "...          ...        ...        ...  \n",
            "219698       NaN          M        STK  \n",
            "219699       NaN         TK        XTK  \n",
            "219700       NaN         TN          M  \n",
            "219701       NaN        XTN        VTK  \n",
            "219702       NaN        NaN        NaN  \n",
            "\n",
            "[219703 rows x 10 columns]\n"
          ]
        }
      ]
    },
    {
      "cell_type": "markdown",
      "source": [
        ">**Примечание**\n",
        ">\n",
        ">Данный датасет можно использовать для задания 3 (с использованием `sklearn`)"
      ],
      "metadata": {
        "id": "QANg8ziJkHGM"
      }
    },
    {
      "cell_type": "markdown",
      "source": [
        "(0.5 балла) Выберете столбец с данными о цене бриллиантов и домножите его на тот столбец, только транспонированный, и выведите полученную матрицу:"
      ],
      "metadata": {
        "id": "mV9jLhspyOgz"
      }
    },
    {
      "cell_type": "code",
      "source": [
        "# your code here"
      ],
      "metadata": {
        "id": "LawjtnoIymFu"
      },
      "execution_count": null,
      "outputs": []
    },
    {
      "cell_type": "markdown",
      "source": [
        "### Построение графиков"
      ],
      "metadata": {
        "id": "Pz02uapbkbGk"
      }
    },
    {
      "cell_type": "markdown",
      "source": [
        "**Требования к графику:**\n",
        "\n",
        "1.   График должен быть подписан\n",
        "2.   Оси должны быть подписаны\n",
        "3.   Должна быть легенда графика\n",
        "4.   График должен быть информативным (желательно без сильных выбросов)\n",
        "\n",
        "**Все надписи на русском языке!**"
      ],
      "metadata": {
        "id": "_zhww-rd-c5c"
      }
    },
    {
      "cell_type": "markdown",
      "source": [
        ">**Примечание**\n",
        ">\n",
        ">График необходимо строить для очищенных данных - в них не должно быть пропусков по осям, по которым строите график. При этом **не перезатирайте** имеющийся датафрейм!"
      ],
      "metadata": {
        "id": "mfebCvk0k2mo"
      }
    },
    {
      "cell_type": "markdown",
      "source": [
        "(2 балла) Постройте график `цвет бриллианта - стоимость`:"
      ],
      "metadata": {
        "id": "4R9Rwxdq-l21"
      }
    },
    {
      "cell_type": "code",
      "source": [
        "import matplotlib.pyplot as plt\n",
        "\n",
        "clear_copy = diamonds[diamonds['color'].notna()]\n",
        "q5 = clear_copy['total_sales_price'].quantile(0.05)\n",
        "q95 = clear_copy['total_sales_price'].quantile(0.95)\n",
        "clear_copy = clear_copy[(clear_copy['total_sales_price'] > q5) & (clear_copy['total_sales_price'] < q95)]\n",
        "\n",
        "#на графике цены от цвета ничего не понятно, поэтому построю график медианы цены от цвета\n",
        "color_to_median_price = {}\n",
        "for color in clear_copy['color'].unique():\n",
        "  color_to_median_price[color] = clear_copy.loc[clear_copy['color'] == color]['total_sales_price'].median()\n",
        "plt.bar(color_to_median_price.keys(), color_to_median_price.values(), label='Median Price')\n",
        "plt.title('Median Price by Diamond Color')\n",
        "plt.xlabel('Color')\n",
        "plt.ylabel('Median Price')\n",
        "plt.legend()"
      ],
      "metadata": {
        "colab": {
          "base_uri": "https://localhost:8080/",
          "height": 489
        },
        "id": "VViUSMDw-zOb",
        "outputId": "80a46cef-f5d1-4275-843c-77cb54ad08f6"
      },
      "execution_count": 211,
      "outputs": [
        {
          "output_type": "execute_result",
          "data": {
            "text/plain": [
              "<matplotlib.legend.Legend at 0x781c83751db0>"
            ]
          },
          "metadata": {},
          "execution_count": 211
        },
        {
          "output_type": "display_data",
          "data": {
            "text/plain": [
              "<Figure size 640x480 with 1 Axes>"
            ],
            "image/png": "[encoded data removed]"
          },
          "metadata": {}
        }
      ]
    },
    {
      "cell_type": "markdown",
      "source": [
        "(2 балла) Постройте график `лабараторная оценка - кол-во бриллиантов`:"
      ],
      "metadata": {
        "id": "W_UgFji5-vWx"
      }
    },
    {
      "cell_type": "code",
      "source": [
        "clear_copy = diamonds[diamonds['cut_quality'].notna()]\n",
        "quality_to_count = clear_copy['cut_quality'].value_counts().reset_index()\n",
        "\n",
        "plt.bar(quality_to_count['cut_quality'], quality_to_count['count'], label='Quantity')\n",
        "plt.title('Quantity by Cut Quality')\n",
        "plt.xlabel('Cut Quality')\n",
        "plt.ylabel('Quantity')\n",
        "plt.legend()"
      ],
      "metadata": {
        "id": "nyT8-TRb_c24",
        "colab": {
          "base_uri": "https://localhost:8080/",
          "height": 489
        },
        "outputId": "b8ea2d88-6dbb-42f7-a749-747eb6104e53"
      },
      "execution_count": 197,
      "outputs": [
        {
          "output_type": "execute_result",
          "data": {
            "text/plain": [
              "<matplotlib.legend.Legend at 0x781c86762ef0>"
            ]
          },
          "metadata": {},
          "execution_count": 197
        },
        {
          "output_type": "display_data",
          "data": {
            "text/plain": [
              "<Figure size 640x480 with 1 Axes>"
            ],
            "image/png": "[encoded data removed]"
          },
          "metadata": {}
        }
      ]
    },
    {
      "cell_type": "markdown",
      "source": [
        "(2 балла) Постройте график `вес бриллианта - стоимость`:"
      ],
      "metadata": {
        "id": "AgsMclnJ_c9H"
      }
    },
    {
      "cell_type": "code",
      "source": [
        "copy = diamonds[diamonds['color'].notna()]\n",
        "q5 = copy['total_sales_price'].quantile(0.05)\n",
        "q95 = copy['total_sales_price'].quantile(0.95)\n",
        "copy = copy[(copy['total_sales_price'] > q5) & (copy['total_sales_price'] < q95)]\n",
        "\n",
        "plt.scatter(diamonds['carat_weight'], diamonds['total_sales_price'], label='Price by Weight')\n",
        "plt.title('Price by Diamond Weight')\n",
        "plt.xlabel('Weight')\n",
        "plt.ylabel('Price')\n",
        "plt.legend()"
      ],
      "metadata": {
        "id": "tn-x3pwmANQe",
        "colab": {
          "base_uri": "https://localhost:8080/",
          "height": 489
        },
        "outputId": "18a7186f-de9c-46e2-8266-a0ca3a5f2e0d"
      },
      "execution_count": 202,
      "outputs": [
        {
          "output_type": "execute_result",
          "data": {
            "text/plain": [
              "<matplotlib.legend.Legend at 0x781c80952b30>"
            ]
          },
          "metadata": {},
          "execution_count": 202
        },
        {
          "output_type": "display_data",
          "data": {
            "text/plain": [
              "<Figure size 640x480 with 1 Axes>"
            ],
            "image/png": "[encoded data removed]"
          },
          "metadata": {}
        }
      ]
    },
    {
      "cell_type": "markdown",
      "source": [
        "(2 балла) Постройте график `система оценки GIA Cut - кол-во бриллиантов`:"
      ],
      "metadata": {
        "id": "0LVC1KfEAwuw"
      }
    },
    {
      "cell_type": "code",
      "source": [
        "clear_copy = diamonds[diamonds['cut_quality'].notna()]\n",
        "quality_to_count = clear_copy['cut_quality'].value_counts().reset_index()\n",
        "\n",
        "plt.bar(quality_to_count['cut_quality'], quality_to_count['count'], label='Quantity')\n",
        "plt.title('Quantity by GIA Cut Quality')\n",
        "plt.xlabel('GIA Cut Quality')\n",
        "plt.ylabel('Quantity')\n",
        "plt.legend()"
      ],
      "metadata": {
        "id": "IeuLooSIA232",
        "colab": {
          "base_uri": "https://localhost:8080/",
          "height": 489
        },
        "outputId": "5f8fc59a-696a-42a2-e5a2-030589cd9756"
      },
      "execution_count": 212,
      "outputs": [
        {
          "output_type": "execute_result",
          "data": {
            "text/plain": [
              "<matplotlib.legend.Legend at 0x781c76682800>"
            ]
          },
          "metadata": {},
          "execution_count": 212
        },
        {
          "output_type": "display_data",
          "data": {
            "text/plain": [
              "<Figure size 640x480 with 1 Axes>"
            ],
            "image/png": "[encoded data removed]"
          },
          "metadata": {}
        }
      ]
    },
    {
      "cell_type": "markdown",
      "source": [
        "(2 балла) **Сделайте выводы по построенным графикам:**"
      ],
      "metadata": {
        "id": "DRaaNLidFDhL"
      }
    },
    {
      "cell_type": "markdown",
      "source": [
        ">*Подсказка для маленьких: Что вы можете сказать о графиках полученных выше для данного датасета?*"
      ],
      "metadata": {
        "id": "GSuWCfdGLtn0"
      }
    },
    {
      "cell_type": "markdown",
      "source": [
        "1) Наименьшую среднюю цену имеют бриллианты цвета Е, наибольшую - цвета М, остальные соотношения цен можно увидеть на графике\n",
        "\n",
        "2) Чем больше вес бриллианта, тем больше его стоимость\n",
        "\n",
        "3) Больше всего бриллиантов получают оценки Excellent или Very Good, бриллиантов с оценками Good, Fair, Ideal очень мало"
      ],
      "metadata": {
        "id": "iNdjR_X9lSt1"
      }
    },
    {
      "cell_type": "markdown",
      "source": [
        "## Задание 3. Модель - 30 баллов"
      ],
      "metadata": {
        "id": "JKYRkX_rBxxu"
      }
    },
    {
      "cell_type": "markdown",
      "source": [
        "В данном задании вам предстоит построить классифицирующую модель размер алмаза и его стоимости, а затем оценить полученную модель."
      ],
      "metadata": {
        "id": "EJO9SwpII_uJ"
      }
    },
    {
      "cell_type": "markdown",
      "source": [
        ">**Примечание**\n",
        ">\n",
        ">Данная модель не претендует на самый верный индикатор стоимости алмаза, ведь мы не учитываем ничего больше чем стоимость алмаза. Исключительно для образовательных целей :)"
      ],
      "metadata": {
        "id": "_8sA1qlRllrk"
      }
    },
    {
      "cell_type": "markdown",
      "source": [
        "Для построения модели нам понадобится 4 столбца, а именно:\n",
        "- `meas_length`\n",
        "- `meas_width`\n",
        "- `meas_depth`\n",
        "- `total_sales_price`\n",
        "\n",
        "От остальных столбцов можно избавиться."
      ],
      "metadata": {
        "id": "e78rVEGFJrVN"
      }
    },
    {
      "cell_type": "markdown",
      "source": [
        "(1 балл) Создайте новый датасет и выведите его первые 10 строк:"
      ],
      "metadata": {
        "id": "HhpeXcR1l-Ag"
      }
    },
    {
      "cell_type": "code",
      "source": [
        "diam = diamonds[['meas_length', 'meas_width', 'meas_depth', 'total_sales_price']]\n",
        "print(diam.head(10))"
      ],
      "metadata": {
        "id": "K87VXeCxKFrU",
        "colab": {
          "base_uri": "https://localhost:8080/"
        },
        "outputId": "504834fa-130a-47a4-ed90-6b942ac71ad8"
      },
      "execution_count": 215,
      "outputs": [
        {
          "output_type": "stream",
          "name": "stdout",
          "text": [
            "   meas_length  meas_width  meas_depth  total_sales_price\n",
            "0         2.85        2.87        1.79                200\n",
            "1         2.84        2.89        1.78                200\n",
            "2         2.88        2.90        1.77                200\n",
            "3         2.86        2.88        1.78                200\n",
            "4         2.79        2.83        1.82                200\n",
            "5         2.95        2.99        1.81                200\n",
            "6         2.85        2.88        1.84                200\n",
            "7         2.86        2.89        1.78                200\n",
            "8         2.89        2.92        1.85                200\n",
            "9         2.83        2.87        1.80                200\n"
          ]
        }
      ]
    },
    {
      "cell_type": "markdown",
      "source": [
        "(1 балл) Перемешайте строки в датафрейме случайным образом:"
      ],
      "metadata": {
        "id": "Uex8DVspKFxn"
      }
    },
    {
      "cell_type": "code",
      "source": [
        "diam = diam.sample(frac=1)\n",
        "print(diam.head())"
      ],
      "metadata": {
        "id": "5lRYIwGOKOnT",
        "colab": {
          "base_uri": "https://localhost:8080/"
        },
        "outputId": "1f26133f-f8a3-4fc9-bd0a-abd3ff5d2220"
      },
      "execution_count": 219,
      "outputs": [
        {
          "output_type": "stream",
          "name": "stdout",
          "text": [
            "        meas_length  meas_width  meas_depth  total_sales_price\n",
            "12118          5.28        3.75        2.35                654\n",
            "219699        11.55        8.81        5.71            1292500\n",
            "16984          3.99        4.02        2.37                688\n",
            "172848         5.48        5.37        3.95               6250\n",
            "92126          6.32        4.07        2.53               1402\n"
          ]
        }
      ]
    },
    {
      "cell_type": "markdown",
      "source": [
        "(1 балл) Сформируем новую колонку - для каждого бриллианта найдем сумму Минковского (p=3) по 3 измерениям бриллианта:"
      ],
      "metadata": {
        "id": "iEHBNONDLl64"
      }
    },
    {
      "cell_type": "code",
      "source": [
        "diam['sum_mink'] = diam['meas_length'] + diam['meas_width'] + diam['meas_depth']\n",
        "print(diam.head())"
      ],
      "metadata": {
        "id": "V3CTAQbAMQsR",
        "colab": {
          "base_uri": "https://localhost:8080/"
        },
        "outputId": "11c7d418-1d8a-43ab-ef6e-bc7086c72bee"
      },
      "execution_count": 220,
      "outputs": [
        {
          "output_type": "stream",
          "name": "stdout",
          "text": [
            "        meas_length  meas_width  meas_depth  total_sales_price  sum_mink\n",
            "12118          5.28        3.75        2.35                654     11.38\n",
            "219699        11.55        8.81        5.71            1292500     26.07\n",
            "16984          3.99        4.02        2.37                688     10.38\n",
            "172848         5.48        5.37        3.95               6250     14.80\n",
            "92126          6.32        4.07        2.53               1402     12.92\n"
          ]
        }
      ]
    },
    {
      "cell_type": "markdown",
      "source": [
        "(1 балл) Сформируем новый датасет из двух колонок - сумма Минковского и `total_sales_price`:"
      ],
      "metadata": {
        "id": "z5s5_yB8n1Hp"
      }
    },
    {
      "cell_type": "code",
      "source": [
        "new_diam = diam[['sum_mink', 'total_sales_price']]\n",
        "print(new_diam.head())"
      ],
      "metadata": {
        "id": "tXxZnWS7n9q0",
        "colab": {
          "base_uri": "https://localhost:8080/"
        },
        "outputId": "2dcb9384-ac73-4118-b6f3-c6f8d49af595"
      },
      "execution_count": 221,
      "outputs": [
        {
          "output_type": "stream",
          "name": "stdout",
          "text": [
            "        sum_mink  total_sales_price\n",
            "12118      11.38                654\n",
            "219699     26.07            1292500\n",
            "16984      10.38                688\n",
            "172848     14.80               6250\n",
            "92126      12.92               1402\n"
          ]
        }
      ]
    },
    {
      "cell_type": "markdown",
      "source": [
        "(1 балл) Разделите вашу выборку на две части в соотношении 8:2 - одна выборка будет для тренировка, а другая для тестов вашей модели:"
      ],
      "metadata": {
        "id": "aXCp0GmUKOvM"
      }
    },
    {
      "cell_type": "code",
      "source": [
        "from sklearn.model_selection import train_test_split\n",
        "\n",
        "train, test = train_test_split(diam, train_size=0.8)"
      ],
      "metadata": {
        "id": "rxwHhdnFK3Lz"
      },
      "execution_count": 262,
      "outputs": []
    },
    {
      "cell_type": "markdown",
      "source": [
        "(2 балла) Постройте график зависимости стоимости от вашего нового параметра размера для тренинг-выборки:"
      ],
      "metadata": {
        "id": "lhuRoIMRK3S3"
      }
    },
    {
      "cell_type": "code",
      "source": [
        "sz_to_median_price1 = {}\n",
        "for sz in np.sort(train['sum_mink'].unique()):\n",
        "  sz_to_median_price1[sz] = train.loc[train['sum_mink'] == sz]['total_sales_price'].median()\n",
        "\n",
        "plt.plot(sz_to_median_price1.keys(), sz_to_median_price1.values(), 'r-', label='Median Price')\n",
        "plt.title('Median Price by Size')\n",
        "plt.xlabel('Size')\n",
        "plt.ylabel('Median Price')\n",
        "plt.legend()\n",
        "#plt.scatter(new_diam['sum_mink'], new_diam['total_sales_price'], alpha=0.5)"
      ],
      "metadata": {
        "id": "zdXv0wimNNZq",
        "colab": {
          "base_uri": "https://localhost:8080/",
          "height": 489
        },
        "outputId": "8e43c249-c9b9-4649-d152-7dccf7cc8dcb"
      },
      "execution_count": 253,
      "outputs": [
        {
          "output_type": "execute_result",
          "data": {
            "text/plain": [
              "<matplotlib.legend.Legend at 0x781c829dbf10>"
            ]
          },
          "metadata": {},
          "execution_count": 253
        },
        {
          "output_type": "display_data",
          "data": {
            "text/plain": [
              "<Figure size 640x480 with 1 Axes>"
            ],
            "image/png": "[encoded data removed]"
          },
          "metadata": {}
        }
      ]
    },
    {
      "cell_type": "markdown",
      "source": [
        "(2 балла) Нанесите на тот же график тестовую выборку, используя другой цвет (не забудьте про параметр прозрачности):"
      ],
      "metadata": {
        "id": "0cUx_FSiNOUx"
      }
    },
    {
      "cell_type": "code",
      "source": [
        "sz_to_median_price2 = {}\n",
        "for sz in np.sort(test['sum_mink'].unique()):\n",
        "  sz_to_median_price2[sz] = test.loc[test['sum_mink'] == sz]['total_sales_price'].median()\n",
        "\n",
        "plt.plot(sz_to_median_price1.keys(), sz_to_median_price1.values(), 'r-', label='train', alpha=0.5)\n",
        "plt.plot(sz_to_median_price2.keys(), sz_to_median_price2.values(), 'b-', label='test', alpha=0.5)\n",
        "plt.title('Median Price by Size')\n",
        "plt.xlabel('Size')\n",
        "plt.ylabel('Median Price')\n",
        "plt.legend()"
      ],
      "metadata": {
        "id": "R09w4W7VNnM2",
        "colab": {
          "base_uri": "https://localhost:8080/",
          "height": 489
        },
        "outputId": "3b91668e-1011-45ba-db14-fa0ad854c7c8"
      },
      "execution_count": 254,
      "outputs": [
        {
          "output_type": "execute_result",
          "data": {
            "text/plain": [
              "<matplotlib.legend.Legend at 0x781c835824a0>"
            ]
          },
          "metadata": {},
          "execution_count": 254
        },
        {
          "output_type": "display_data",
          "data": {
            "text/plain": [
              "<Figure size 640x480 with 1 Axes>"
            ],
            "image/png": "[encoded data removed]"
          },
          "metadata": {}
        }
      ]
    },
    {
      "cell_type": "markdown",
      "source": [
        "(3 балла) Найдите для каждой бриллианта из тестовой выборки его \"ближайшего соседа\" из тренинг-выборки. Для каждого бриллианта из тестовой выборки найдите расстояния до соответствующего ближайшего соседа:"
      ],
      "metadata": {
        "id": "VwIIccnpNnVj"
      }
    },
    {
      "cell_type": "code",
      "source": [
        "for test_diam in test.loc[:]:\n",
        "  min_dist = 1e9\n",
        "  for train_diam in train.loc[:]:\n",
        "    dist = (train_diam.loc[\"meas_length\"] - test_diam.loc[\"meas_length\"]) ** 2\n",
        "    dist = min(dist, min_dist)"
      ],
      "metadata": {
        "id": "t_jpKJ54OBb0",
        "colab": {
          "base_uri": "https://localhost:8080/",
          "height": 193
        },
        "outputId": "fe3a5385-60e0-4786-c2da-574f83954630"
      },
      "execution_count": 264,
      "outputs": [
        {
          "output_type": "error",
          "ename": "AttributeError",
          "evalue": "'str' object has no attribute 'loc'",
          "traceback": [
            "\u001b[0;31m---------------------------------------------------------------------------\u001b[0m",
            "\u001b[0;31mAttributeError\u001b[0m                            Traceback (most recent call last)",
            "\u001b[0;32m<ipython-input-264-9cbe556f0016>\u001b[0m in \u001b[0;36m<cell line: 1>\u001b[0;34m()\u001b[0m\n\u001b[1;32m      2\u001b[0m   \u001b[0mmin_dist\u001b[0m \u001b[0;34m=\u001b[0m \u001b[0;36m1e9\u001b[0m\u001b[0;34m\u001b[0m\u001b[0;34m\u001b[0m\u001b[0m\n\u001b[1;32m      3\u001b[0m   \u001b[0;32mfor\u001b[0m \u001b[0mtrain_diam\u001b[0m \u001b[0;32min\u001b[0m \u001b[0mtrain\u001b[0m\u001b[0;34m.\u001b[0m\u001b[0mloc\u001b[0m\u001b[0;34m[\u001b[0m\u001b[0;34m:\u001b[0m\u001b[0;34m]\u001b[0m\u001b[0;34m:\u001b[0m\u001b[0;34m\u001b[0m\u001b[0;34m\u001b[0m\u001b[0m\n\u001b[0;32m----> 4\u001b[0;31m     \u001b[0mdist\u001b[0m \u001b[0;34m=\u001b[0m \u001b[0;34m(\u001b[0m\u001b[0mtrain_diam\u001b[0m\u001b[0;34m.\u001b[0m\u001b[0mloc\u001b[0m\u001b[0;34m[\u001b[0m\u001b[0;34m\"meas_length\"\u001b[0m\u001b[0;34m]\u001b[0m \u001b[0;34m-\u001b[0m \u001b[0mtest_diam\u001b[0m\u001b[0;34m.\u001b[0m\u001b[0mloc\u001b[0m\u001b[0;34m[\u001b[0m\u001b[0;34m\"meas_length\"\u001b[0m\u001b[0;34m]\u001b[0m\u001b[0;34m)\u001b[0m \u001b[0;34m**\u001b[0m \u001b[0;36m2\u001b[0m\u001b[0;34m\u001b[0m\u001b[0;34m\u001b[0m\u001b[0m\n\u001b[0m\u001b[1;32m      5\u001b[0m     \u001b[0mdist\u001b[0m \u001b[0;34m=\u001b[0m \u001b[0mmin\u001b[0m\u001b[0;34m(\u001b[0m\u001b[0mdist\u001b[0m\u001b[0;34m,\u001b[0m \u001b[0mmin_dist\u001b[0m\u001b[0;34m)\u001b[0m\u001b[0;34m\u001b[0m\u001b[0;34m\u001b[0m\u001b[0m\n",
            "\u001b[0;31mAttributeError\u001b[0m: 'str' object has no attribute 'loc'"
          ]
        }
      ]
    },
    {
      "cell_type": "markdown",
      "source": [
        "(3 балла) Найдите насколько сильно (в процентах) отличается цена бриллиантов из тестовой выборки от их соответствующих ближайших соседей:"
      ],
      "metadata": {
        "id": "7R0uaHqurV_u"
      }
    },
    {
      "cell_type": "code",
      "source": [
        "# your code here"
      ],
      "metadata": {
        "id": "Uy2ngWJ4rn-4"
      },
      "execution_count": null,
      "outputs": []
    },
    {
      "cell_type": "markdown",
      "source": [
        "**Данная модель является выдумкой автора. Не важен коэффициент ошибки, важны ваши шаги для получения коэффициента.**"
      ],
      "metadata": {
        "id": "tl0CHY6_OAxU"
      }
    },
    {
      "cell_type": "markdown",
      "source": [
        "### Введение в машинное обучение"
      ],
      "metadata": {
        "id": "AbrAdKSUrqz5"
      }
    },
    {
      "cell_type": "markdown",
      "source": [
        "Теперь давайте познакомимся с таким сильным инструментом как `sklearn`."
      ],
      "metadata": {
        "id": "I6sqXZLYuox4"
      }
    },
    {
      "cell_type": "markdown",
      "source": [
        "Вам необходимо:\n",
        "1. выбрать 2 категориальных признака\n",
        "2. на их основе обучить решающее дерево\n",
        "3. оценить среднеквадратичную ошибку цены бриллианта\n",
        "4. сделать пп. 1-3 и выбрать ту пару, которая дает лучший результат\n",
        "5. сделать выводы"
      ],
      "metadata": {
        "id": "q4OpdbhwsuAX"
      }
    },
    {
      "cell_type": "markdown",
      "source": [
        "(3 балла) Мы работаем с категориальными признаками, для них не понятно что есть \"больше\" и \"меньше\". Поэтому нам нужно предварительно закодировать значения наших признаков, с чем нам поможет [OneHotEncoder](https://scikit-learn.org/stable/modules/generated/sklearn.preprocessing.OneHotEncoder.html):"
      ],
      "metadata": {
        "id": "rScraaVSxQlT"
      }
    },
    {
      "cell_type": "code",
      "source": [
        "# your code here"
      ],
      "metadata": {
        "id": "G8hDstLlxjry"
      },
      "execution_count": null,
      "outputs": []
    },
    {
      "cell_type": "markdown",
      "source": [
        "(3 балла) Разбейте датасет на обучающую и тестовую выбору. Для этого вам поможет [train_test_split](https://scikit-learn.org/stable/modules/generated/sklearn.model_selection.train_test_split.html):"
      ],
      "metadata": {
        "id": "ig8t-nmRvojA"
      }
    },
    {
      "cell_type": "code",
      "source": [
        "# your code here"
      ],
      "metadata": {
        "id": "ChVKP43AwY8i"
      },
      "execution_count": null,
      "outputs": []
    },
    {
      "cell_type": "markdown",
      "source": [
        "(3 балла) Затем создайте и обучите вашу модель - [DecisionTreeRegressor](https://scikit-learn.org/stable/modules/generated/sklearn.tree.DecisionTreeRegressor.html):"
      ],
      "metadata": {
        "id": "gbv2zLpkwZsq"
      }
    },
    {
      "cell_type": "code",
      "source": [
        "# your code here"
      ],
      "metadata": {
        "id": "Qfvv2j6Sws8p"
      },
      "execution_count": null,
      "outputs": []
    },
    {
      "cell_type": "markdown",
      "source": [
        "(3 балла) Оцените ошибку вашей модели при помощи [mean_squared_error](https://scikit-learn.org/stable/modules/generated/sklearn.metrics.mean_squared_error.html):"
      ],
      "metadata": {
        "id": "nUvBoY1pwtIv"
      }
    },
    {
      "cell_type": "code",
      "source": [
        "# your code here"
      ],
      "metadata": {
        "id": "q946oHPaxGA4"
      },
      "execution_count": null,
      "outputs": []
    },
    {
      "cell_type": "markdown",
      "source": [
        "(3 балла) **Сделайте выводы какие категориальные признаки лучше:**"
      ],
      "metadata": {
        "id": "scWwHLEKxGPl"
      }
    },
    {
      "cell_type": "markdown",
      "source": [
        "*Подсказки для маленьких: Что вы можете сказать о зависимости по вашей выборке признаков? Какой вы можете сделать вывод об готовых инструментах для работы и написанных Вами?*"
      ],
      "metadata": {
        "id": "djE6Ke2bL5WS"
      }
    },
    {
      "cell_type": "markdown",
      "source": [
        "Ваши выводы здесь :)"
      ],
      "metadata": {
        "id": "lu36_N58uvui"
      }
    }
  ]
}